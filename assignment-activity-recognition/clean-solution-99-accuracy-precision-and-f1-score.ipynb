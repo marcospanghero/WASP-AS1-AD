{
 "cells": [
  {
   "cell_type": "code",
   "execution_count": 1,
   "metadata": {},
   "outputs": [],
   "source": [
    "import pandas as pd"
   ]
  },
  {
   "cell_type": "code",
   "execution_count": 2,
   "metadata": {},
   "outputs": [],
   "source": [
    "data=pd.read_csv(\"./data/dataset.csv\")"
   ]
  },
  {
   "cell_type": "code",
   "execution_count": 3,
   "metadata": {},
   "outputs": [
    {
     "data": {
      "text/html": "<div>\n<style scoped>\n    .dataframe tbody tr th:only-of-type {\n        vertical-align: middle;\n    }\n\n    .dataframe tbody tr th {\n        vertical-align: top;\n    }\n\n    .dataframe thead th {\n        text-align: right;\n    }\n</style>\n<table border=\"1\" class=\"dataframe\">\n  <thead>\n    <tr style=\"text-align: right;\">\n      <th></th>\n      <th>date</th>\n      <th>time</th>\n      <th>username</th>\n      <th>wrist</th>\n      <th>activity</th>\n      <th>acceleration_x</th>\n      <th>acceleration_y</th>\n      <th>acceleration_z</th>\n      <th>gyro_x</th>\n      <th>gyro_y</th>\n      <th>gyro_z</th>\n    </tr>\n  </thead>\n  <tbody>\n    <tr>\n      <th>0</th>\n      <td>2017-6-30</td>\n      <td>13:51:15:847724020</td>\n      <td>viktor</td>\n      <td>0</td>\n      <td>0</td>\n      <td>0.2650</td>\n      <td>-0.7814</td>\n      <td>-0.0076</td>\n      <td>-0.0590</td>\n      <td>0.0325</td>\n      <td>-2.9296</td>\n    </tr>\n    <tr>\n      <th>1</th>\n      <td>2017-6-30</td>\n      <td>13:51:16:246945023</td>\n      <td>viktor</td>\n      <td>0</td>\n      <td>0</td>\n      <td>0.6722</td>\n      <td>-1.1233</td>\n      <td>-0.2344</td>\n      <td>-0.1757</td>\n      <td>0.0208</td>\n      <td>0.1269</td>\n    </tr>\n    <tr>\n      <th>2</th>\n      <td>2017-6-30</td>\n      <td>13:51:16:446233987</td>\n      <td>viktor</td>\n      <td>0</td>\n      <td>0</td>\n      <td>0.4399</td>\n      <td>-1.4817</td>\n      <td>0.0722</td>\n      <td>-0.9105</td>\n      <td>0.1063</td>\n      <td>-2.4367</td>\n    </tr>\n    <tr>\n      <th>3</th>\n      <td>2017-6-30</td>\n      <td>13:51:16:646117985</td>\n      <td>viktor</td>\n      <td>0</td>\n      <td>0</td>\n      <td>0.3031</td>\n      <td>-0.8125</td>\n      <td>0.0888</td>\n      <td>0.1199</td>\n      <td>-0.4099</td>\n      <td>-2.9336</td>\n    </tr>\n    <tr>\n      <th>4</th>\n      <td>2017-6-30</td>\n      <td>13:51:16:846738994</td>\n      <td>viktor</td>\n      <td>0</td>\n      <td>0</td>\n      <td>0.4814</td>\n      <td>-0.9312</td>\n      <td>0.0359</td>\n      <td>0.0527</td>\n      <td>0.4379</td>\n      <td>2.4922</td>\n    </tr>\n  </tbody>\n</table>\n</div>",
      "text/plain": "        date                time username  wrist  activity  acceleration_x  \\\n0  2017-6-30  13:51:15:847724020   viktor      0         0          0.2650   \n1  2017-6-30  13:51:16:246945023   viktor      0         0          0.6722   \n2  2017-6-30  13:51:16:446233987   viktor      0         0          0.4399   \n3  2017-6-30  13:51:16:646117985   viktor      0         0          0.3031   \n4  2017-6-30  13:51:16:846738994   viktor      0         0          0.4814   \n\n   acceleration_y  acceleration_z  gyro_x  gyro_y  gyro_z  \n0         -0.7814         -0.0076 -0.0590  0.0325 -2.9296  \n1         -1.1233         -0.2344 -0.1757  0.0208  0.1269  \n2         -1.4817          0.0722 -0.9105  0.1063 -2.4367  \n3         -0.8125          0.0888  0.1199 -0.4099 -2.9336  \n4         -0.9312          0.0359  0.0527  0.4379  2.4922  "
     },
     "execution_count": 3,
     "metadata": {},
     "output_type": "execute_result"
    }
   ],
   "source": [
    "data.head()"
   ]
  },
  {
   "cell_type": "code",
   "execution_count": 4,
   "metadata": {},
   "outputs": [],
   "source": [
    "labels=data.activity"
   ]
  },
  {
   "cell_type": "code",
   "execution_count": 5,
   "metadata": {},
   "outputs": [],
   "source": [
    "data_dropped=data.drop([\"username\",\"activity\"],axis=1)"
   ]
  },
  {
   "cell_type": "code",
   "execution_count": 6,
   "metadata": {},
   "outputs": [
    {
     "data": {
      "text/html": "<div>\n<style scoped>\n    .dataframe tbody tr th:only-of-type {\n        vertical-align: middle;\n    }\n\n    .dataframe tbody tr th {\n        vertical-align: top;\n    }\n\n    .dataframe thead th {\n        text-align: right;\n    }\n</style>\n<table border=\"1\" class=\"dataframe\">\n  <thead>\n    <tr style=\"text-align: right;\">\n      <th></th>\n      <th>date</th>\n      <th>time</th>\n      <th>wrist</th>\n      <th>acceleration_x</th>\n      <th>acceleration_y</th>\n      <th>acceleration_z</th>\n      <th>gyro_x</th>\n      <th>gyro_y</th>\n      <th>gyro_z</th>\n    </tr>\n  </thead>\n  <tbody>\n    <tr>\n      <th>0</th>\n      <td>2017-6-30</td>\n      <td>13:51:15:847724020</td>\n      <td>0</td>\n      <td>0.2650</td>\n      <td>-0.7814</td>\n      <td>-0.0076</td>\n      <td>-0.0590</td>\n      <td>0.0325</td>\n      <td>-2.9296</td>\n    </tr>\n    <tr>\n      <th>1</th>\n      <td>2017-6-30</td>\n      <td>13:51:16:246945023</td>\n      <td>0</td>\n      <td>0.6722</td>\n      <td>-1.1233</td>\n      <td>-0.2344</td>\n      <td>-0.1757</td>\n      <td>0.0208</td>\n      <td>0.1269</td>\n    </tr>\n    <tr>\n      <th>2</th>\n      <td>2017-6-30</td>\n      <td>13:51:16:446233987</td>\n      <td>0</td>\n      <td>0.4399</td>\n      <td>-1.4817</td>\n      <td>0.0722</td>\n      <td>-0.9105</td>\n      <td>0.1063</td>\n      <td>-2.4367</td>\n    </tr>\n    <tr>\n      <th>3</th>\n      <td>2017-6-30</td>\n      <td>13:51:16:646117985</td>\n      <td>0</td>\n      <td>0.3031</td>\n      <td>-0.8125</td>\n      <td>0.0888</td>\n      <td>0.1199</td>\n      <td>-0.4099</td>\n      <td>-2.9336</td>\n    </tr>\n    <tr>\n      <th>4</th>\n      <td>2017-6-30</td>\n      <td>13:51:16:846738994</td>\n      <td>0</td>\n      <td>0.4814</td>\n      <td>-0.9312</td>\n      <td>0.0359</td>\n      <td>0.0527</td>\n      <td>0.4379</td>\n      <td>2.4922</td>\n    </tr>\n  </tbody>\n</table>\n</div>",
      "text/plain": "        date                time  wrist  acceleration_x  acceleration_y  \\\n0  2017-6-30  13:51:15:847724020      0          0.2650         -0.7814   \n1  2017-6-30  13:51:16:246945023      0          0.6722         -1.1233   \n2  2017-6-30  13:51:16:446233987      0          0.4399         -1.4817   \n3  2017-6-30  13:51:16:646117985      0          0.3031         -0.8125   \n4  2017-6-30  13:51:16:846738994      0          0.4814         -0.9312   \n\n   acceleration_z  gyro_x  gyro_y  gyro_z  \n0         -0.0076 -0.0590  0.0325 -2.9296  \n1         -0.2344 -0.1757  0.0208  0.1269  \n2          0.0722 -0.9105  0.1063 -2.4367  \n3          0.0888  0.1199 -0.4099 -2.9336  \n4          0.0359  0.0527  0.4379  2.4922  "
     },
     "execution_count": 6,
     "metadata": {},
     "output_type": "execute_result"
    }
   ],
   "source": [
    "data_dropped.head()"
   ]
  },
  {
   "cell_type": "code",
   "execution_count": 7,
   "metadata": {},
   "outputs": [],
   "source": [
    "data_dropped=data_dropped.set_index(\"date\")"
   ]
  },
  {
   "cell_type": "code",
   "execution_count": 8,
   "metadata": {},
   "outputs": [
    {
     "data": {
      "text/html": "<div>\n<style scoped>\n    .dataframe tbody tr th:only-of-type {\n        vertical-align: middle;\n    }\n\n    .dataframe tbody tr th {\n        vertical-align: top;\n    }\n\n    .dataframe thead th {\n        text-align: right;\n    }\n</style>\n<table border=\"1\" class=\"dataframe\">\n  <thead>\n    <tr style=\"text-align: right;\">\n      <th></th>\n      <th>time</th>\n      <th>wrist</th>\n      <th>acceleration_x</th>\n      <th>acceleration_y</th>\n      <th>acceleration_z</th>\n      <th>gyro_x</th>\n      <th>gyro_y</th>\n      <th>gyro_z</th>\n    </tr>\n    <tr>\n      <th>date</th>\n      <th></th>\n      <th></th>\n      <th></th>\n      <th></th>\n      <th></th>\n      <th></th>\n      <th></th>\n      <th></th>\n    </tr>\n  </thead>\n  <tbody>\n    <tr>\n      <th>2017-6-30</th>\n      <td>13:51:15:847724020</td>\n      <td>0</td>\n      <td>0.2650</td>\n      <td>-0.7814</td>\n      <td>-0.0076</td>\n      <td>-0.0590</td>\n      <td>0.0325</td>\n      <td>-2.9296</td>\n    </tr>\n    <tr>\n      <th>2017-6-30</th>\n      <td>13:51:16:246945023</td>\n      <td>0</td>\n      <td>0.6722</td>\n      <td>-1.1233</td>\n      <td>-0.2344</td>\n      <td>-0.1757</td>\n      <td>0.0208</td>\n      <td>0.1269</td>\n    </tr>\n    <tr>\n      <th>2017-6-30</th>\n      <td>13:51:16:446233987</td>\n      <td>0</td>\n      <td>0.4399</td>\n      <td>-1.4817</td>\n      <td>0.0722</td>\n      <td>-0.9105</td>\n      <td>0.1063</td>\n      <td>-2.4367</td>\n    </tr>\n    <tr>\n      <th>2017-6-30</th>\n      <td>13:51:16:646117985</td>\n      <td>0</td>\n      <td>0.3031</td>\n      <td>-0.8125</td>\n      <td>0.0888</td>\n      <td>0.1199</td>\n      <td>-0.4099</td>\n      <td>-2.9336</td>\n    </tr>\n    <tr>\n      <th>2017-6-30</th>\n      <td>13:51:16:846738994</td>\n      <td>0</td>\n      <td>0.4814</td>\n      <td>-0.9312</td>\n      <td>0.0359</td>\n      <td>0.0527</td>\n      <td>0.4379</td>\n      <td>2.4922</td>\n    </tr>\n  </tbody>\n</table>\n</div>",
      "text/plain": "                         time  wrist  acceleration_x  acceleration_y  \\\ndate                                                                   \n2017-6-30  13:51:15:847724020      0          0.2650         -0.7814   \n2017-6-30  13:51:16:246945023      0          0.6722         -1.1233   \n2017-6-30  13:51:16:446233987      0          0.4399         -1.4817   \n2017-6-30  13:51:16:646117985      0          0.3031         -0.8125   \n2017-6-30  13:51:16:846738994      0          0.4814         -0.9312   \n\n           acceleration_z  gyro_x  gyro_y  gyro_z  \ndate                                               \n2017-6-30         -0.0076 -0.0590  0.0325 -2.9296  \n2017-6-30         -0.2344 -0.1757  0.0208  0.1269  \n2017-6-30          0.0722 -0.9105  0.1063 -2.4367  \n2017-6-30          0.0888  0.1199 -0.4099 -2.9336  \n2017-6-30          0.0359  0.0527  0.4379  2.4922  "
     },
     "execution_count": 8,
     "metadata": {},
     "output_type": "execute_result"
    }
   ],
   "source": [
    "data_dropped.head()"
   ]
  },
  {
   "cell_type": "code",
   "execution_count": 9,
   "metadata": {},
   "outputs": [],
   "source": [
    "features=data_dropped.values"
   ]
  },
  {
   "cell_type": "code",
   "execution_count": 10,
   "metadata": {},
   "outputs": [
    {
     "data": {
      "text/plain": "array([['13:51:15:847724020', 0, 0.265, ..., -0.059, 0.0325, -2.9296],\n       ['13:51:16:246945023', 0, 0.6722, ..., -0.1757, 0.0208, 0.1269],\n       ['13:51:16:446233987', 0, 0.4399, ..., -0.9105, 0.1063, -2.4367],\n       ...,\n       ['20:9:15:717828989', 0, 0.4587, ..., -1.45, -0.2792, -1.2616],\n       ['20:9:15:917932987', 0, 0.259, ..., -1.5165, 0.456, -1.7755],\n       ['20:9:16:117410004', 0, 0.314, ..., 0.1183, 1.085, 1.2814]],\n      dtype=object)"
     },
     "execution_count": 10,
     "metadata": {},
     "output_type": "execute_result"
    }
   ],
   "source": [
    "features"
   ]
  },
  {
   "cell_type": "code",
   "execution_count": 11,
   "metadata": {},
   "outputs": [],
   "source": [
    "data_time_dropped=data_dropped.drop([\"time\"],axis=1)"
   ]
  },
  {
   "cell_type": "code",
   "execution_count": 12,
   "metadata": {},
   "outputs": [
    {
     "data": {
      "text/html": "<div>\n<style scoped>\n    .dataframe tbody tr th:only-of-type {\n        vertical-align: middle;\n    }\n\n    .dataframe tbody tr th {\n        vertical-align: top;\n    }\n\n    .dataframe thead th {\n        text-align: right;\n    }\n</style>\n<table border=\"1\" class=\"dataframe\">\n  <thead>\n    <tr style=\"text-align: right;\">\n      <th></th>\n      <th>wrist</th>\n      <th>acceleration_x</th>\n      <th>acceleration_y</th>\n      <th>acceleration_z</th>\n      <th>gyro_x</th>\n      <th>gyro_y</th>\n      <th>gyro_z</th>\n    </tr>\n    <tr>\n      <th>date</th>\n      <th></th>\n      <th></th>\n      <th></th>\n      <th></th>\n      <th></th>\n      <th></th>\n      <th></th>\n    </tr>\n  </thead>\n  <tbody>\n    <tr>\n      <th>2017-6-30</th>\n      <td>0</td>\n      <td>0.2650</td>\n      <td>-0.7814</td>\n      <td>-0.0076</td>\n      <td>-0.0590</td>\n      <td>0.0325</td>\n      <td>-2.9296</td>\n    </tr>\n    <tr>\n      <th>2017-6-30</th>\n      <td>0</td>\n      <td>0.6722</td>\n      <td>-1.1233</td>\n      <td>-0.2344</td>\n      <td>-0.1757</td>\n      <td>0.0208</td>\n      <td>0.1269</td>\n    </tr>\n    <tr>\n      <th>2017-6-30</th>\n      <td>0</td>\n      <td>0.4399</td>\n      <td>-1.4817</td>\n      <td>0.0722</td>\n      <td>-0.9105</td>\n      <td>0.1063</td>\n      <td>-2.4367</td>\n    </tr>\n    <tr>\n      <th>2017-6-30</th>\n      <td>0</td>\n      <td>0.3031</td>\n      <td>-0.8125</td>\n      <td>0.0888</td>\n      <td>0.1199</td>\n      <td>-0.4099</td>\n      <td>-2.9336</td>\n    </tr>\n    <tr>\n      <th>2017-6-30</th>\n      <td>0</td>\n      <td>0.4814</td>\n      <td>-0.9312</td>\n      <td>0.0359</td>\n      <td>0.0527</td>\n      <td>0.4379</td>\n      <td>2.4922</td>\n    </tr>\n  </tbody>\n</table>\n</div>",
      "text/plain": "           wrist  acceleration_x  acceleration_y  acceleration_z  gyro_x  \\\ndate                                                                       \n2017-6-30      0          0.2650         -0.7814         -0.0076 -0.0590   \n2017-6-30      0          0.6722         -1.1233         -0.2344 -0.1757   \n2017-6-30      0          0.4399         -1.4817          0.0722 -0.9105   \n2017-6-30      0          0.3031         -0.8125          0.0888  0.1199   \n2017-6-30      0          0.4814         -0.9312          0.0359  0.0527   \n\n           gyro_y  gyro_z  \ndate                       \n2017-6-30  0.0325 -2.9296  \n2017-6-30  0.0208  0.1269  \n2017-6-30  0.1063 -2.4367  \n2017-6-30 -0.4099 -2.9336  \n2017-6-30  0.4379  2.4922  "
     },
     "execution_count": 12,
     "metadata": {},
     "output_type": "execute_result"
    }
   ],
   "source": [
    "data_time_dropped.head()"
   ]
  },
  {
   "cell_type": "code",
   "execution_count": 13,
   "metadata": {},
   "outputs": [],
   "source": [
    "features=data_time_dropped.values"
   ]
  },
  {
   "cell_type": "code",
   "execution_count": 14,
   "metadata": {},
   "outputs": [
    {
     "data": {
      "text/plain": "array([[ 0.    ,  0.265 , -0.7814, ..., -0.059 ,  0.0325, -2.9296],\n       [ 0.    ,  0.6722, -1.1233, ..., -0.1757,  0.0208,  0.1269],\n       [ 0.    ,  0.4399, -1.4817, ..., -0.9105,  0.1063, -2.4367],\n       ...,\n       [ 0.    ,  0.4587, -1.178 , ..., -1.45  , -0.2792, -1.2616],\n       [ 0.    ,  0.259 , -0.8582, ..., -1.5165,  0.456 , -1.7755],\n       [ 0.    ,  0.314 , -0.8008, ...,  0.1183,  1.085 ,  1.2814]])"
     },
     "execution_count": 14,
     "metadata": {},
     "output_type": "execute_result"
    }
   ],
   "source": [
    "features"
   ]
  },
  {
   "cell_type": "code",
   "execution_count": 21,
   "metadata": {},
   "outputs": [
    {
     "name": "stdout",
     "output_type": "stream",
     "text": "1 44365\n0 44223\n"
    }
   ],
   "source": [
    "LABELS=labels.values\n",
    "print(LABELS.max(), LABELS[LABELS==1].size)\n",
    "print(LABELS.min(), LABELS[LABELS==0].size)"
   ]
  },
  {
   "cell_type": "code",
   "execution_count": 16,
   "metadata": {},
   "outputs": [],
   "source": [
    "FEATURES=features"
   ]
  },
  {
   "cell_type": "code",
   "execution_count": 22,
   "metadata": {},
   "outputs": [],
   "source": [
    "from sklearn.model_selection import train_test_split"
   ]
  },
  {
   "cell_type": "code",
   "execution_count": 23,
   "metadata": {},
   "outputs": [],
   "source": [
    "x_train,x_test,y_train,y_test=train_test_split(FEATURES,LABELS,test_size=0.3,random_state=1)"
   ]
  },
  {
   "cell_type": "code",
   "execution_count": 24,
   "metadata": {},
   "outputs": [],
   "source": [
    "from sklearn.ensemble import RandomForestClassifier"
   ]
  },
  {
   "cell_type": "code",
   "execution_count": 25,
   "metadata": {},
   "outputs": [],
   "source": [
    "RanFor=RandomForestClassifier(n_estimators=100,random_state=1)"
   ]
  },
  {
   "cell_type": "code",
   "execution_count": 26,
   "metadata": {},
   "outputs": [
    {
     "data": {
      "text/plain": "RandomForestClassifier(bootstrap=True, ccp_alpha=0.0, class_weight=None,\n                       criterion='gini', max_depth=None, max_features='auto',\n                       max_leaf_nodes=None, max_samples=None,\n                       min_impurity_decrease=0.0, min_impurity_split=None,\n                       min_samples_leaf=1, min_samples_split=2,\n                       min_weight_fraction_leaf=0.0, n_estimators=100,\n                       n_jobs=None, oob_score=False, random_state=1, verbose=0,\n                       warm_start=False)"
     },
     "execution_count": 26,
     "metadata": {},
     "output_type": "execute_result"
    }
   ],
   "source": [
    "RanFor.fit(x_train,y_train)"
   ]
  },
  {
   "cell_type": "code",
   "execution_count": 27,
   "metadata": {},
   "outputs": [],
   "source": [
    "from sklearn.metrics import *"
   ]
  },
  {
   "cell_type": "code",
   "execution_count": 28,
   "metadata": {},
   "outputs": [
    {
     "data": {
      "text/plain": "1.0"
     },
     "execution_count": 28,
     "metadata": {},
     "output_type": "execute_result"
    }
   ],
   "source": [
    "accuracy_score(y_train,RanFor.predict(x_train))"
   ]
  },
  {
   "cell_type": "code",
   "execution_count": 29,
   "metadata": {},
   "outputs": [
    {
     "data": {
      "text/plain": "0.9913459005907364"
     },
     "execution_count": 29,
     "metadata": {},
     "output_type": "execute_result"
    }
   ],
   "source": [
    "accuracy_score(y_test,RanFor.predict(x_test))"
   ]
  },
  {
   "cell_type": "code",
   "execution_count": 30,
   "metadata": {},
   "outputs": [
    {
     "data": {
      "text/plain": "0.9915696806923306"
     },
     "execution_count": 30,
     "metadata": {},
     "output_type": "execute_result"
    }
   ],
   "source": [
    "precision_score(y_test,RanFor.predict(x_test))"
   ]
  },
  {
   "cell_type": "code",
   "execution_count": 31,
   "metadata": {},
   "outputs": [
    {
     "data": {
      "text/plain": "0.9912738663484487"
     },
     "execution_count": 31,
     "metadata": {},
     "output_type": "execute_result"
    }
   ],
   "source": [
    "recall_score(y_test,RanFor.predict(x_test))"
   ]
  },
  {
   "cell_type": "code",
   "execution_count": 32,
   "metadata": {},
   "outputs": [
    {
     "data": {
      "text/plain": "0.9914217514545727"
     },
     "execution_count": 32,
     "metadata": {},
     "output_type": "execute_result"
    }
   ],
   "source": [
    "f1_score(y_test,RanFor.predict(x_test))"
   ]
  },
  {
   "cell_type": "code",
   "execution_count": 28,
   "metadata": {
    "_cell_guid": "fa0b8d2a-64cc-47cb-8aa9-7bf3b97dcc11",
    "_execution_state": "idle",
    "_uuid": "cdb81f48093ed7c554b7189d6642d2a20dbe8226",
    "collapsed": true
   },
   "outputs": [],
   "source": []
  }
 ],
 "metadata": {
  "anaconda-cloud": {},
  "kernelspec": {
   "display_name": "Python 3.8.1 64-bit ('sklearn': conda)",
   "language": "python",
   "name": "python38164bitsklearncondaab2615fd75db424388456508542e2d0a"
  },
  "language_info": {
   "codemirror_mode": {
    "name": "ipython",
    "version": 3
   },
   "file_extension": ".py",
   "mimetype": "text/x-python",
   "name": "python",
   "nbconvert_exporter": "python",
   "pygments_lexer": "ipython3",
   "version": "3.8.1-final"
  }
 },
 "nbformat": 4,
 "nbformat_minor": 1
}