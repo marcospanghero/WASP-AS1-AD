{
 "cells": [
  {
   "cell_type": "code",
   "execution_count": 1,
   "metadata": {},
   "outputs": [],
   "source": [
    "import pandas as pd\n",
    "import numpy as np\n",
    "import matplotlib.pyplot as plt\n",
    "from sklearn.model_selection import train_test_split\n",
    "from sklearn.ensemble import RandomForestClassifier\n",
    "from sklearn.metrics import *"
   ]
  },
  {
   "cell_type": "code",
   "execution_count": 2,
   "metadata": {},
   "outputs": [],
   "source": [
    "data_s = pd.read_csv(\"./dataset_s.csv\") # standing 0\n",
    "data_w = pd.read_csv(\"./dataset_w.csv\") # walking 1\n",
    "data_r = pd.read_csv(\"./dataset_r.csv\") # running 2\n",
    "\n",
    "# drop the data if gyro_x/y/z is zero\n",
    "data_s_1= data_s[data_s['gyro_x'] != 0]\n",
    "data_w_1= data_w[data_w['gyro_x'] != 0]\n",
    "data_r_1= data_r[data_r['gyro_x'] != 0]"
   ]
  },
  {
   "cell_type": "code",
   "execution_count": 3,
   "metadata": {},
   "outputs": [
    {
     "data": {
      "text/html": [
       "<div>\n",
       "<style scoped>\n",
       "    .dataframe tbody tr th:only-of-type {\n",
       "        vertical-align: middle;\n",
       "    }\n",
       "\n",
       "    .dataframe tbody tr th {\n",
       "        vertical-align: top;\n",
       "    }\n",
       "\n",
       "    .dataframe thead th {\n",
       "        text-align: right;\n",
       "    }\n",
       "</style>\n",
       "<table border=\"1\" class=\"dataframe\">\n",
       "  <thead>\n",
       "    <tr style=\"text-align: right;\">\n",
       "      <th></th>\n",
       "      <th>time</th>\n",
       "      <th>activity</th>\n",
       "      <th>acceleration_x</th>\n",
       "      <th>acceleration_y</th>\n",
       "      <th>acceleration_z</th>\n",
       "      <th>gyro_x</th>\n",
       "      <th>gyro_y</th>\n",
       "      <th>gyro_z</th>\n",
       "    </tr>\n",
       "  </thead>\n",
       "  <tbody>\n",
       "    <tr>\n",
       "      <th>13</th>\n",
       "      <td>2463163198</td>\n",
       "      <td>0</td>\n",
       "      <td>-1.327648</td>\n",
       "      <td>3.116518</td>\n",
       "      <td>8.896414</td>\n",
       "      <td>0.844024</td>\n",
       "      <td>-0.011977</td>\n",
       "      <td>-0.011977</td>\n",
       "    </tr>\n",
       "    <tr>\n",
       "      <th>14</th>\n",
       "      <td>2463163203</td>\n",
       "      <td>0</td>\n",
       "      <td>-1.184002</td>\n",
       "      <td>3.545062</td>\n",
       "      <td>8.250007</td>\n",
       "      <td>0.844024</td>\n",
       "      <td>-0.011977</td>\n",
       "      <td>-0.011977</td>\n",
       "    </tr>\n",
       "    <tr>\n",
       "      <th>15</th>\n",
       "      <td>2463163213</td>\n",
       "      <td>0</td>\n",
       "      <td>-0.923045</td>\n",
       "      <td>3.698284</td>\n",
       "      <td>7.728094</td>\n",
       "      <td>0.844024</td>\n",
       "      <td>-0.011977</td>\n",
       "      <td>-0.011977</td>\n",
       "    </tr>\n",
       "    <tr>\n",
       "      <th>16</th>\n",
       "      <td>2463163208</td>\n",
       "      <td>0</td>\n",
       "      <td>-0.923045</td>\n",
       "      <td>3.698284</td>\n",
       "      <td>7.728094</td>\n",
       "      <td>0.875789</td>\n",
       "      <td>-0.019918</td>\n",
       "      <td>-0.019918</td>\n",
       "    </tr>\n",
       "    <tr>\n",
       "      <th>17</th>\n",
       "      <td>2463163218</td>\n",
       "      <td>0</td>\n",
       "      <td>-0.923045</td>\n",
       "      <td>3.698284</td>\n",
       "      <td>7.728094</td>\n",
       "      <td>0.827531</td>\n",
       "      <td>-0.066954</td>\n",
       "      <td>-0.066954</td>\n",
       "    </tr>\n",
       "  </tbody>\n",
       "</table>\n",
       "</div>"
      ],
      "text/plain": [
       "          time  activity  acceleration_x  acceleration_y  acceleration_z  \\\n",
       "13  2463163198         0       -1.327648        3.116518        8.896414   \n",
       "14  2463163203         0       -1.184002        3.545062        8.250007   \n",
       "15  2463163213         0       -0.923045        3.698284        7.728094   \n",
       "16  2463163208         0       -0.923045        3.698284        7.728094   \n",
       "17  2463163218         0       -0.923045        3.698284        7.728094   \n",
       "\n",
       "      gyro_x    gyro_y    gyro_z  \n",
       "13  0.844024 -0.011977 -0.011977  \n",
       "14  0.844024 -0.011977 -0.011977  \n",
       "15  0.844024 -0.011977 -0.011977  \n",
       "16  0.875789 -0.019918 -0.019918  \n",
       "17  0.827531 -0.066954 -0.066954  "
      ]
     },
     "execution_count": 3,
     "metadata": {},
     "output_type": "execute_result"
    }
   ],
   "source": [
    "frames = [data_s_1, data_w_1, data_r_1]\n",
    "data = pd.concat(frames)\n",
    "pd.set_option('display.max_rows', None)\n",
    "data.to_csv(\"./data_all.csv\")\n",
    "data.head()"
   ]
  },
  {
   "cell_type": "code",
   "execution_count": 4,
   "metadata": {},
   "outputs": [
    {
     "data": {
      "text/html": [
       "<div>\n",
       "<style scoped>\n",
       "    .dataframe tbody tr th:only-of-type {\n",
       "        vertical-align: middle;\n",
       "    }\n",
       "\n",
       "    .dataframe tbody tr th {\n",
       "        vertical-align: top;\n",
       "    }\n",
       "\n",
       "    .dataframe thead th {\n",
       "        text-align: right;\n",
       "    }\n",
       "</style>\n",
       "<table border=\"1\" class=\"dataframe\">\n",
       "  <thead>\n",
       "    <tr style=\"text-align: right;\">\n",
       "      <th></th>\n",
       "      <th>acceleration_x</th>\n",
       "      <th>acceleration_y</th>\n",
       "      <th>acceleration_z</th>\n",
       "      <th>gyro_x</th>\n",
       "      <th>gyro_y</th>\n",
       "      <th>gyro_z</th>\n",
       "    </tr>\n",
       "  </thead>\n",
       "  <tbody>\n",
       "    <tr>\n",
       "      <th>13</th>\n",
       "      <td>-1.327648</td>\n",
       "      <td>3.116518</td>\n",
       "      <td>8.896414</td>\n",
       "      <td>0.844024</td>\n",
       "      <td>-0.011977</td>\n",
       "      <td>-0.011977</td>\n",
       "    </tr>\n",
       "    <tr>\n",
       "      <th>14</th>\n",
       "      <td>-1.184002</td>\n",
       "      <td>3.545062</td>\n",
       "      <td>8.250007</td>\n",
       "      <td>0.844024</td>\n",
       "      <td>-0.011977</td>\n",
       "      <td>-0.011977</td>\n",
       "    </tr>\n",
       "    <tr>\n",
       "      <th>15</th>\n",
       "      <td>-0.923045</td>\n",
       "      <td>3.698284</td>\n",
       "      <td>7.728094</td>\n",
       "      <td>0.844024</td>\n",
       "      <td>-0.011977</td>\n",
       "      <td>-0.011977</td>\n",
       "    </tr>\n",
       "    <tr>\n",
       "      <th>16</th>\n",
       "      <td>-0.923045</td>\n",
       "      <td>3.698284</td>\n",
       "      <td>7.728094</td>\n",
       "      <td>0.875789</td>\n",
       "      <td>-0.019918</td>\n",
       "      <td>-0.019918</td>\n",
       "    </tr>\n",
       "    <tr>\n",
       "      <th>17</th>\n",
       "      <td>-0.923045</td>\n",
       "      <td>3.698284</td>\n",
       "      <td>7.728094</td>\n",
       "      <td>0.827531</td>\n",
       "      <td>-0.066954</td>\n",
       "      <td>-0.066954</td>\n",
       "    </tr>\n",
       "  </tbody>\n",
       "</table>\n",
       "</div>"
      ],
      "text/plain": [
       "    acceleration_x  acceleration_y  acceleration_z    gyro_x    gyro_y  \\\n",
       "13       -1.327648        3.116518        8.896414  0.844024 -0.011977   \n",
       "14       -1.184002        3.545062        8.250007  0.844024 -0.011977   \n",
       "15       -0.923045        3.698284        7.728094  0.844024 -0.011977   \n",
       "16       -0.923045        3.698284        7.728094  0.875789 -0.019918   \n",
       "17       -0.923045        3.698284        7.728094  0.827531 -0.066954   \n",
       "\n",
       "      gyro_z  \n",
       "13 -0.011977  \n",
       "14 -0.011977  \n",
       "15 -0.011977  \n",
       "16 -0.019918  \n",
       "17 -0.066954  "
      ]
     },
     "execution_count": 4,
     "metadata": {},
     "output_type": "execute_result"
    }
   ],
   "source": [
    "labels=data.activity\n",
    "data_dropped=data.drop([\"time\",\"activity\"],axis=1)\n",
    "features=data_dropped.values\n",
    "data_dropped.head()"
   ]
  },
  {
   "cell_type": "code",
   "execution_count": 5,
   "metadata": {},
   "outputs": [],
   "source": [
    "FEATURES=features\n"
   ]
  },
  {
   "cell_type": "code",
   "execution_count": 6,
   "metadata": {},
   "outputs": [],
   "source": [
    "LABELS=labels.values\n"
   ]
  },
  {
   "cell_type": "code",
   "execution_count": 7,
   "metadata": {},
   "outputs": [],
   "source": [
    "x_train,x_test,y_train,y_test=train_test_split(FEATURES,LABELS,test_size=0.3,random_state=1)\n"
   ]
  },
  {
   "cell_type": "code",
   "execution_count": 8,
   "metadata": {},
   "outputs": [],
   "source": [
    "RanFor=RandomForestClassifier(n_estimators=100,random_state=1)"
   ]
  },
  {
   "cell_type": "code",
   "execution_count": 9,
   "metadata": {},
   "outputs": [
    {
     "data": {
      "text/plain": [
       "RandomForestClassifier(bootstrap=True, ccp_alpha=0.0, class_weight=None,\n",
       "                       criterion='gini', max_depth=None, max_features='auto',\n",
       "                       max_leaf_nodes=None, max_samples=None,\n",
       "                       min_impurity_decrease=0.0, min_impurity_split=None,\n",
       "                       min_samples_leaf=1, min_samples_split=2,\n",
       "                       min_weight_fraction_leaf=0.0, n_estimators=100,\n",
       "                       n_jobs=None, oob_score=False, random_state=1, verbose=0,\n",
       "                       warm_start=False)"
      ]
     },
     "execution_count": 9,
     "metadata": {},
     "output_type": "execute_result"
    }
   ],
   "source": [
    "RanFor.fit(x_train,y_train)"
   ]
  },
  {
   "cell_type": "code",
   "execution_count": 10,
   "metadata": {},
   "outputs": [
    {
     "data": {
      "text/plain": [
       "0.9999307047328667"
      ]
     },
     "execution_count": 10,
     "metadata": {},
     "output_type": "execute_result"
    }
   ],
   "source": [
    "accuracy_score(y_train,RanFor.predict(x_train))"
   ]
  },
  {
   "cell_type": "code",
   "execution_count": 11,
   "metadata": {},
   "outputs": [
    {
     "data": {
      "text/plain": [
       "0.973322554567502"
      ]
     },
     "execution_count": 11,
     "metadata": {},
     "output_type": "execute_result"
    }
   ],
   "source": [
    "accuracy_score(y_test,RanFor.predict(x_test))"
   ]
  },
  {
   "cell_type": "code",
   "execution_count": null,
   "metadata": {},
   "outputs": [],
   "source": []
  }
 ],
 "metadata": {
  "anaconda-cloud": {},
  "kernelspec": {
   "display_name": "Python 3.8.1 64-bit ('sklearn': conda)",
   "language": "python",
   "name": "python38164bitsklearncondaab2615fd75db424388456508542e2d0a"
  },
  "language_info": {
   "codemirror_mode": {
    "name": "ipython",
    "version": 3
   },
   "file_extension": ".py",
   "mimetype": "text/x-python",
   "name": "python",
   "nbconvert_exporter": "python",
   "pygments_lexer": "ipython3",
   "version": "3.8.1"
  }
 },
 "nbformat": 4,
 "nbformat_minor": 4
}
